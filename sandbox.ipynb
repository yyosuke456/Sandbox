{
  "nbformat": 4,
  "nbformat_minor": 0,
  "metadata": {
    "colab": {
      "name": "sandbox.ipynb",
      "provenance": [],
      "authorship_tag": "ABX9TyO074uPZb3CQSkUiCxpAnzp",
      "include_colab_link": true
    },
    "kernelspec": {
      "name": "python3",
      "display_name": "Python 3"
    },
    "language_info": {
      "name": "python"
    }
  },
  "cells": [
    {
      "cell_type": "markdown",
      "metadata": {
        "id": "view-in-github",
        "colab_type": "text"
      },
      "source": [
        "<a href=\"https://colab.research.google.com/github/yyosuke456/Sandbox/blob/master/sandbox.ipynb\" target=\"_parent\"><img src=\"https://colab.research.google.com/assets/colab-badge.svg\" alt=\"Open In Colab\"/></a>"
      ]
    },
    {
      "cell_type": "code",
      "metadata": {
        "id": "OnpiLimIA7y4",
        "colab": {
          "base_uri": "https://localhost:8080/"
        },
        "outputId": "be85e5a8-e5de-4dfa-bec3-1aa90a700286"
      },
      "source": [
        "print(\"test\")"
      ],
      "execution_count": null,
      "outputs": [
        {
          "output_type": "stream",
          "text": [
            "test\n"
          ],
          "name": "stdout"
        }
      ]
    },
    {
      "cell_type": "markdown",
      "metadata": {
        "id": "Qq0JHpNCbrkf"
      },
      "source": [
        ""
      ]
    },
    {
      "cell_type": "markdown",
      "metadata": {
        "id": "C07jJQ_SnMdm"
      },
      "source": [
        "改行\n",
        "\n",
        "\\nだけで良いみたい\n",
        "\n",
        "https://www.javadrive.jp/python/string/index2.html"
      ]
    },
    {
      "cell_type": "code",
      "metadata": {
        "colab": {
          "base_uri": "https://localhost:8080/"
        },
        "id": "iqXYABBBnGdv",
        "outputId": "1da7dbee-7a82-4a33-8028-bf1cd6bae3c2"
      },
      "source": [
        "print(\"test\\newlinetest\")"
      ],
      "execution_count": 3,
      "outputs": [
        {
          "output_type": "stream",
          "text": [
            "test\n",
            "ewlinetest\n"
          ],
          "name": "stdout"
        }
      ]
    },
    {
      "cell_type": "markdown",
      "metadata": {
        "id": "YO_ViouInj_g"
      },
      "source": [
        "文字列"
      ]
    },
    {
      "cell_type": "code",
      "metadata": {
        "colab": {
          "base_uri": "https://localhost:8080/"
        },
        "id": "0V8gORnuoyB6",
        "outputId": "51e0eb79-f0e6-4a22-9272-0ba3ffad2c74"
      },
      "source": [
        "print(\"abc\" + \"def\")"
      ],
      "execution_count": 4,
      "outputs": [
        {
          "output_type": "stream",
          "text": [
            "abcdef\n"
          ],
          "name": "stdout"
        }
      ]
    },
    {
      "cell_type": "code",
      "metadata": {
        "colab": {
          "base_uri": "https://localhost:8080/"
        },
        "id": "KanGzh7Yo4J9",
        "outputId": "9fa32654-f6a7-4d60-c517-99e43dfb02a9"
      },
      "source": [
        "print(\"abc\" * 3)"
      ],
      "execution_count": 5,
      "outputs": [
        {
          "output_type": "stream",
          "text": [
            "abcabcabc\n"
          ],
          "name": "stdout"
        }
      ]
    }
  ]
}