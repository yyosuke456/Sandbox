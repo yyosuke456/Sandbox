{
  "nbformat": 4,
  "nbformat_minor": 0,
  "metadata": {
    "colab": {
      "name": "sandbox.ipynb",
      "provenance": [],
      "collapsed_sections": [],
      "authorship_tag": "ABX9TyON5TO1g66imDqpt3Z4yrbv",
      "include_colab_link": true
    },
    "kernelspec": {
      "name": "python3",
      "display_name": "Python 3"
    },
    "language_info": {
      "name": "python"
    }
  },
  "cells": [
    {
      "cell_type": "markdown",
      "metadata": {
        "id": "view-in-github",
        "colab_type": "text"
      },
      "source": [
        "<a href=\"https://colab.research.google.com/github/yyosuke456/Sandbox/blob/master/sandbox.ipynb\" target=\"_parent\"><img src=\"https://colab.research.google.com/assets/colab-badge.svg\" alt=\"Open In Colab\"/></a>"
      ]
    },
    {
      "cell_type": "code",
      "metadata": {
        "id": "OnpiLimIA7y4",
        "colab": {
          "base_uri": "https://localhost:8080/"
        },
        "outputId": "be85e5a8-e5de-4dfa-bec3-1aa90a700286"
      },
      "source": [
        "print(\"test\")"
      ],
      "execution_count": null,
      "outputs": [
        {
          "output_type": "stream",
          "text": [
            "test\n"
          ],
          "name": "stdout"
        }
      ]
    },
    {
      "cell_type": "markdown",
      "metadata": {
        "id": "Qq0JHpNCbrkf"
      },
      "source": [
        ""
      ]
    },
    {
      "cell_type": "markdown",
      "metadata": {
        "id": "C07jJQ_SnMdm"
      },
      "source": [
        "改行\n",
        "\n",
        "\\nだけで良いみたい\n",
        "\n",
        "https://www.javadrive.jp/python/string/index2.html"
      ]
    },
    {
      "cell_type": "code",
      "metadata": {
        "colab": {
          "base_uri": "https://localhost:8080/"
        },
        "id": "iqXYABBBnGdv",
        "outputId": "1da7dbee-7a82-4a33-8028-bf1cd6bae3c2"
      },
      "source": [
        "print(\"test\\newlinetest\")"
      ],
      "execution_count": null,
      "outputs": [
        {
          "output_type": "stream",
          "text": [
            "test\n",
            "ewlinetest\n"
          ],
          "name": "stdout"
        }
      ]
    },
    {
      "cell_type": "markdown",
      "metadata": {
        "id": "YO_ViouInj_g"
      },
      "source": [
        "文字列"
      ]
    },
    {
      "cell_type": "code",
      "metadata": {
        "colab": {
          "base_uri": "https://localhost:8080/"
        },
        "id": "0V8gORnuoyB6",
        "outputId": "51e0eb79-f0e6-4a22-9272-0ba3ffad2c74"
      },
      "source": [
        "print(\"abc\" + \"def\")"
      ],
      "execution_count": null,
      "outputs": [
        {
          "output_type": "stream",
          "text": [
            "abcdef\n"
          ],
          "name": "stdout"
        }
      ]
    },
    {
      "cell_type": "code",
      "metadata": {
        "colab": {
          "base_uri": "https://localhost:8080/"
        },
        "id": "KanGzh7Yo4J9",
        "outputId": "9fa32654-f6a7-4d60-c517-99e43dfb02a9"
      },
      "source": [
        "print(\"abc\" * 3)"
      ],
      "execution_count": null,
      "outputs": [
        {
          "output_type": "stream",
          "text": [
            "abcabcabc\n"
          ],
          "name": "stdout"
        }
      ]
    },
    {
      "cell_type": "code",
      "metadata": {
        "colab": {
          "base_uri": "https://localhost:8080/"
        },
        "id": "rQawVeCIn7Rb",
        "outputId": "70ecc92e-d6f4-460f-be78-6a4b8207c8c8"
      },
      "source": [
        "num = 18\n",
        "print(\"My age is \" + str(num))\n",
        "#print(\"My age is \" + num) エラーになる"
      ],
      "execution_count": null,
      "outputs": [
        {
          "output_type": "stream",
          "text": [
            "My age is 18\n"
          ],
          "name": "stdout"
        }
      ]
    },
    {
      "cell_type": "code",
      "metadata": {
        "colab": {
          "base_uri": "https://localhost:8080/"
        },
        "id": "tktDHTtWoI6U",
        "outputId": "11a46444-6e09-4db1-b2cb-1537bb0b995c"
      },
      "source": [
        "len(\"my age is eighteen\")\n",
        "len(\"a a\")"
      ],
      "execution_count": null,
      "outputs": [
        {
          "output_type": "execute_result",
          "data": {
            "text/plain": [
              "3"
            ]
          },
          "metadata": {
            "tags": []
          },
          "execution_count": 5
        }
      ]
    },
    {
      "cell_type": "code",
      "metadata": {
        "colab": {
          "base_uri": "https://localhost:8080/"
        },
        "id": "P6JfM4V7oVvf",
        "outputId": "b6d7bf49-4593-430c-9209-5e35bb202746"
      },
      "source": [
        "str1 = \"Hello\"\n",
        "print(str1[1])   # e\n",
        "print(str1[-1])  # o\n",
        "\n",
        "str2 = \"東京都\"\n",
        "print(str2[2])   # 都 "
      ],
      "execution_count": null,
      "outputs": [
        {
          "output_type": "stream",
          "text": [
            "e\n",
            "o\n",
            "都\n"
          ],
          "name": "stdout"
        }
      ]
    },
    {
      "cell_type": "code",
      "metadata": {
        "colab": {
          "base_uri": "https://localhost:8080/"
        },
        "id": "LNLI1rL30-SN",
        "outputId": "4696c002-f32e-4379-f184-4d0e1754eb22"
      },
      "source": [
        "str = \"Flower\"\n",
        "\n",
        "print(str[1:4])\n",
        "print(str[2:6])\n",
        "print(str[1:4])\n",
        "print(str[2:6])\n",
        "print(str[:3])\n",
        "print(str[3:])\n",
        "print(str[:])"
      ],
      "execution_count": null,
      "outputs": [
        {
          "output_type": "stream",
          "text": [
            "low\n",
            "ower\n",
            "low\n",
            "ower\n",
            "Flo\n",
            "wer\n",
            "Flower\n"
          ],
          "name": "stdout"
        }
      ]
    },
    {
      "cell_type": "markdown",
      "metadata": {
        "id": "h2s8bhUX1Er4"
      },
      "source": [
        "こんな感じで部分文字列作れるのか。\n"
      ]
    },
    {
      "cell_type": "code",
      "metadata": {
        "colab": {
          "base_uri": "https://localhost:8080/"
        },
        "id": "4zf0cSrXA2zo",
        "outputId": "e2e3d94c-75cc-4533-ad9f-a17b0fe7d4a7"
      },
      "source": [
        "num1 = 30\n",
        "result = \"10進数では %d 、16進数では %x です\" % (num1, num1)\n",
        "print(result)"
      ],
      "execution_count": null,
      "outputs": [
        {
          "output_type": "stream",
          "text": [
            "10進数では 30 、16進数では 1e です\n"
          ],
          "name": "stdout"
        }
      ]
    },
    {
      "cell_type": "markdown",
      "metadata": {
        "id": "watcVtXIA9sr"
      },
      "source": [
        "％d，%xで勝手に変換してくれる。https://www.javadrive.jp/python/string/index23.html\n"
      ]
    },
    {
      "cell_type": "code",
      "metadata": {
        "colab": {
          "base_uri": "https://localhost:8080/"
        },
        "id": "oH6HjizsEC5W",
        "outputId": "0868a1f8-24a2-46d7-e59b-ccaf0fedcd5e"
      },
      "source": [
        "def mypoint(str1, num1):\n",
        "    result = \"My name is %-10s, point is %5d.\" % (str1, num1)\n",
        "    print(result)\n",
        "\n",
        "mypoint(\"Yamada\", 75)\n",
        "mypoint(\"Sugiyama\",1825)"
      ],
      "execution_count": null,
      "outputs": [
        {
          "output_type": "stream",
          "text": [
            "My name is Yamada    , point is    75.\n",
            "My name is Sugiyama  , point is  1825.\n"
          ],
          "name": "stdout"
        }
      ]
    },
    {
      "cell_type": "code",
      "metadata": {
        "colab": {
          "base_uri": "https://localhost:8080/"
        },
        "id": "4p6zHHcL6cKB",
        "outputId": "7cc67097-bd42-44e6-8287-049c5f4662a1"
      },
      "source": [
        "mylist = [\"Orange\", \"Peach\", \"Lemon\"]\n",
        "for vv in mylist:\n",
        "    print(vv)\n",
        "\n",
        "print(\"End\")\n",
        "\n",
        "count = 0\n",
        "for val in mylist:\n",
        "    print(\"value:\" + val)\n",
        "    count += 1\n",
        "else:\n",
        "    print(\"要素の数 = \" + str(count))\n",
        "\n"
      ],
      "execution_count": null,
      "outputs": [
        {
          "output_type": "stream",
          "text": [
            "Orange\n",
            "Peach\n",
            "Lemon\n",
            "End\n",
            "value:Orange\n",
            "value:Peach\n",
            "value:Lemon\n",
            "要素の数 = 3\n"
          ],
          "name": "stdout"
        }
      ]
    },
    {
      "cell_type": "code",
      "metadata": {
        "colab": {
          "base_uri": "https://localhost:8080/"
        },
        "id": "Yq-WajvQfXhq",
        "outputId": "fb89024f-559a-4cf0-9036-35ebee6961c9"
      },
      "source": [
        "myList = [1, 2, 3, 4]\n",
        "\n",
        "for val in myList:\n",
        "  print(str(val))\n",
        "  if val == 2:\n",
        "    break\n",
        "## break文"
      ],
      "execution_count": null,
      "outputs": [
        {
          "output_type": "stream",
          "text": [
            "1\n",
            "2\n"
          ],
          "name": "stdout"
        }
      ]
    },
    {
      "cell_type": "code",
      "metadata": {
        "colab": {
          "base_uri": "https://localhost:8080/"
        },
        "id": "Z_lEPu2vhDoR",
        "outputId": "47729cfb-fb04-488b-d360-7e56e510be46"
      },
      "source": [
        "## 指定要素数のlist作成 めっちゃ楽\n",
        "numlist = [0] * 10\n",
        "numlist3 = [1, 2, 3] * 5\n",
        "namelist = [\"undefined\"] * 10\n",
        "print(numlist, numlist3, namelist)"
      ],
      "execution_count": null,
      "outputs": [
        {
          "output_type": "stream",
          "text": [
            "[0, 0, 0, 0, 0, 0, 0, 0, 0, 0] [1, 2, 3, 1, 2, 3, 1, 2, 3, 1, 2, 3, 1, 2, 3] ['undefined', 'undefined', 'undefined', 'undefined', 'undefined', 'undefined', 'undefined', 'undefined', 'undefined', 'undefined']\n"
          ],
          "name": "stdout"
        }
      ]
    },
    {
      "cell_type": "code",
      "metadata": {
        "colab": {
          "base_uri": "https://localhost:8080/"
        },
        "id": "eU-UFzDsq3bs",
        "outputId": "2ef3028c-df21-4fa5-d50f-5e3c23411869"
      },
      "source": [
        "# リストに要素追加\n",
        "myList = [\"A\", \"B\", \"C\"]\n",
        "myList.append(\"D\")\n",
        "print(myList)\n",
        "\n",
        "myList[len(myList):len(myList)] = [\"D\", \"E\"]\n",
        "print(myList)\n",
        "\n",
        "myList[1:2] = [\"W\"]\n",
        "print(myList)\n",
        "myList[1] = \"X\"\n",
        "print(myList)\n"
      ],
      "execution_count": 3,
      "outputs": [
        {
          "output_type": "stream",
          "text": [
            "['A', 'B', 'C', 'D']\n",
            "['A', 'B', 'C', 'D', 'D', 'E']\n",
            "['A', 'W', 'C', 'D', 'D', 'E']\n",
            "['A', 'X', 'C', 'D', 'D', 'E']\n"
          ],
          "name": "stdout"
        }
      ]
    },
    {
      "cell_type": "code",
      "metadata": {
        "colab": {
          "base_uri": "https://localhost:8080/"
        },
        "id": "QGz0pgyW22kL",
        "outputId": "a4f19d2a-5e3b-440e-e053-15e7fb004dfb"
      },
      "source": [
        "# リストの結合\n",
        "\n",
        "mylist = [\"A\", \"B\", \"C\"]\n",
        "mylist.extend([\"D\", \"E\"])\n",
        "\n",
        "print(mylist)\n",
        "mylist.append([\"D\", \"E\"])\n",
        "print(mylist)\n",
        "\n",
        "#これはいい。便利\n",
        "list1 = [\"あ\", \"い\"]\n",
        "list2 = [\"う\", \"え\"]\n",
        "list3 = list1 + list2\n",
        "print(list3)"
      ],
      "execution_count": 7,
      "outputs": [
        {
          "output_type": "stream",
          "text": [
            "['A', 'B', 'C', 'D', 'E']\n",
            "['A', 'B', 'C', 'D', 'E', ['D', 'E']]\n",
            "['あ', 'い', 'う', 'え']\n"
          ],
          "name": "stdout"
        }
      ]
    }
  ]
}