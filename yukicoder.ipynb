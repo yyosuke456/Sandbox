{
  "nbformat": 4,
  "nbformat_minor": 0,
  "metadata": {
    "colab": {
      "name": "yukicoder.ipynb",
      "provenance": [],
      "authorship_tag": "ABX9TyMfPX+CT5KeooK3ntjgguUR",
      "include_colab_link": true
    },
    "kernelspec": {
      "name": "python3",
      "display_name": "Python 3"
    },
    "language_info": {
      "name": "python"
    }
  },
  "cells": [
    {
      "cell_type": "markdown",
      "metadata": {
        "id": "view-in-github",
        "colab_type": "text"
      },
      "source": [
        "<a href=\"https://colab.research.google.com/github/yyosuke456/Sandbox/blob/master/yukicoder.ipynb\" target=\"_parent\"><img src=\"https://colab.research.google.com/assets/colab-badge.svg\" alt=\"Open In Colab\"/></a>"
      ]
    },
    {
      "cell_type": "code",
      "metadata": {
        "colab": {
          "base_uri": "https://localhost:8080/"
        },
        "id": "oSEy_1lSI695",
        "outputId": "bee0771f-9d56-4070-9f03-18203e1ab332"
      },
      "source": [
        "# 標準入力から一行分を読み出し、文字列として格納する。\n",
        "first = input()\n",
        "\n",
        "# 読み込んだ文字列をスペースで分割する\n",
        "split_first = first.split()\n",
        "\n",
        "# それぞれをint型に変換する\n",
        "A = int(split_first[0])\n",
        "B = int(split_first[1])\n",
        "\n",
        "# 慣れてくると この一行でよい\n",
        "# A, B = map(int, input().split()) \n",
        "\n",
        "# 参考: リストを読む際はlist()で覆ってやらないといけない\n",
        "# L = list(map(int, input().split()))\n",
        "\n",
        "#2行目を読み込む\n",
        "S = input()\n",
        "\n",
        "# 標準出力に書き出す。\n",
        "# カンマで区切るとスペースで分割してくれるので楽です。\n",
        "print(A + B, S)"
      ],
      "execution_count": 2,
      "outputs": [
        {
          "output_type": "stream",
          "text": [
            "1 2\n",
            "2\n",
            "3 2\n"
          ],
          "name": "stdout"
        }
      ]
    },
    {
      "cell_type": "code",
      "metadata": {
        "id": "FK2TICDmLD8C"
      },
      "source": [
        ""
      ],
      "execution_count": null,
      "outputs": []
    }
  ]
}